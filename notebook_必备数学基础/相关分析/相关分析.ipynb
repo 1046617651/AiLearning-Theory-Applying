{
 "cells": [
  {
   "cell_type": "markdown",
   "metadata": {},
   "source": [
    "## 相关分析\n",
    "**相关分析**\n",
    "<ul>\n",
    "    <li>衡量事物之间或称变量之间线性相关程度的强弱，并用适当的统计指标表示出来的过程。\n",
    "    <li>比如，家庭收入和支出、一个人所受教育程度与其收入、子女身高和父母身高等"
   ]
  },
  {
   "cell_type": "markdown",
   "metadata": {},
   "source": [
    "**相关系数**\n",
    "<ul>\n",
    "    <li>衡量变量之间相关程度的一个量值。\n",
    "    <li>相关系数r的数值范围是在-1到+1之间。\n",
    "    <li>相关系数r的正负号表示变化方向。\"+\"号表示变化方向一致，即正相关:“-”号表示变化方向相反，即负相关。\n",
    "    <li>r的绝对值表示变量之间的密切程度(即强度)。绝对值越接近1，表示两个变量之间关系越密切；越接近0，表示两个变量之间关系越不密切。\n",
    "    <li>相关系数的值,仅仅是一个比值。它不是由相等单位度量而来(即不等距)，也不是百分比，因此，不能直接作加、减、乘、除运算。\n",
    "    <li>相关系数只能描述两个变量之间的变化方向及密切程度,并不能揭示两者之间的内在本质联系,即存在相关的两个变量,不一定存在因果关系。\n",
    "</ul>\n",
    "<img src=\"assets/20201119224526.png\" width=\"50%\">"
   ]
  },
  {
   "cell_type": "markdown",
   "metadata": {},
   "source": [
    "左上图是线性相关最低的，右上图是线性相关很明显的；\n",
    "左下图是线性相关一般的，右下图有一定的相关但不是线性相关；"
   ]
  },
  {
   "cell_type": "code",
   "execution_count": null,
   "metadata": {},
   "outputs": [],
   "source": []
  }
 ],
 "metadata": {
  "kernelspec": {
   "display_name": "Python 3",
   "language": "python",
   "name": "python3"
  },
  "language_info": {
   "codemirror_mode": {
    "name": "ipython",
    "version": 3
   },
   "file_extension": ".py",
   "mimetype": "text/x-python",
   "name": "python",
   "nbconvert_exporter": "python",
   "pygments_lexer": "ipython3",
   "version": "3.7.3"
  }
 },
 "nbformat": 4,
 "nbformat_minor": 2
}
