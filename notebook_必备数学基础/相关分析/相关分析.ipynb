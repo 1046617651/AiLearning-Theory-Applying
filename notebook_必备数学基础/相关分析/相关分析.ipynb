{
 "cells": [
  {
   "cell_type": "markdown",
   "metadata": {},
   "source": [
    "## 相关分析\n",
    "**相关分析**\n",
    "<ul>\n",
    "    <li>衡量事物之间或称变量之间线性相关程度的强弱，并用适当的统计指标表示出来的过程。\n",
    "    <li>比如，家庭收入和支出、一个人所受教育程度与其收入、子女身高和父母身高等"
   ]
  },
  {
   "cell_type": "markdown",
   "metadata": {},
   "source": [
    "**相关系数**\n",
    "<ul>\n",
    "    <li>衡量变量之间相关程度的一个量值。\n",
    "    <li>相关系数r的数值范围是在-1到+1之间。\n",
    "    <li>相关系数r的正负号表示变化方向。\"+\"号表示变化方向一致，即正相关:“-”号表示变化方向相反，即负相关。\n",
    "    <li>r的绝对值表示变量之间的密切程度(即强度)。绝对值越接近1，表示两个变量之间关系越密切；越接近0，表示两个变量之间关系越不密切。\n",
    "    <li>相关系数的值,仅仅是一个比值。它不是由相等单位度量而来(即不等距)，也不是百分比，因此，不能直接作加、减、乘、除运算。\n",
    "    <li>相关系数只能描述两个变量之间的变化方向及密切程度,并不能揭示两者之间的内在本质联系,即存在相关的两个变量,不一定存在因果关系。\n",
    "</ul>\n",
    "<img src=\"assets/20201119224526.png\" width=\"50%\">"
   ]
  },
  {
   "cell_type": "markdown",
   "metadata": {},
   "source": [
    "左上图是线性相关最低的，右上图是线性相关很明显的；\n",
    "左下图是线性相关一般的，右下图有一定的相关但不是线性相关；"
   ]
  },
  {
   "cell_type": "markdown",
   "metadata": {},
   "source": [
    "## 皮尔逊相关系数"
   ]
  },
  {
   "cell_type": "markdown",
   "metadata": {},
   "source": [
    "### 连续变量的相关分析\n",
    "<ul>\n",
    "    <li>连续变量即数据变量，它的取值之间可以比较大小,可以用加减法计算出差异的大小。\n",
    "    <li>如“年龄”、“收入”、“成绩\"等变量当两个变量都是正态连续变量，而且两者之间呈线性关系时，通常用 Pearson相关系数来衡量。"
   ]
  },
  {
   "cell_type": "markdown",
   "metadata": {},
   "source": [
    "### Pearson.相关系数\n",
    "**协方差:**\n",
    "协方差是一个反映两个随机变量相关程度的指标，如果一个变量跟随着另一个变量同时变大或者变小，那么这两个变量的协方差就是正值\n",
    "$$\n",
    "cov(X, Y) = \\frac{\\sum_n^{i=1}(X_i-\\overline{X})(Y_i-\\overline{Y})}{n-1}\n",
    "$$"
   ]
  },
  {
   "cell_type": "markdown",
   "metadata": {},
   "source": [
    "虽然协方差能反映两个随机变量的相关程度(协方差大于0的时候表示两者正相关，小于0的时候表示两者负相关)，但是协方差值的大小并不能很好地度量两个随机变量的关联程度\n",
    "<br><br>在二维空间中分布着一些数据，我们想知道数据点坐标X轴和Y轴的相关程度，如果X与Y的相关程度较小但是数据分布的比较离散，这样会导致求出的协方差值较大，用这个值来度量相关程度是不合理的\n",
    "<img src=\"assets/20201120215604.png\" width=\"50%\">\n",
    "为了更好的度量两个随机变量的相关程度， 引入Pearson相关系数，其在协方差的基础上除了两个随机变量的标准差"
   ]
  },
  {
   "cell_type": "markdown",
   "metadata": {},
   "source": [
    "**Pearson相关系数**\n",
    "$$\n",
    "P_{X,Y} = \\frac{cov(X,Y)}{σXσY} = \\frac{E[(X-μX)(Y-μY)]}{σXσY} \n",
    "$$\n",
    "pearson是一个介于-1和1之间的值，当两个变量的线性关系增强时，相关系数趋于1或-1；当一个变量增大，另一个变量也增大时，表明它们之间是正相关的，相关系数大于0；如果一个变量增大，另一个变量却减小，表明它们之间是负相关的，相关系数小于0；如果相关系数等于0，表明它们之间不存在线性相关关系\n",
    "\n",
    "<img src=\"assets/20201120220149.png\" width=\"50%\">\n",
    "np.corrcoef(a)可结算行与行之间的相关系数，np.corrcoef(a,rowvar=0)用于计算各列之间的相关系数"
   ]
  },
  {
   "cell_type": "markdown",
   "metadata": {},
   "source": [
    "## 计算与检验"
   ]
  },
  {
   "cell_type": "code",
   "execution_count": 2,
   "metadata": {},
   "outputs": [
    {
     "data": {
      "text/plain": [
       "array([[10, 10,  8,  9,  7],\n",
       "       [ 4,  5,  4,  3,  3],\n",
       "       [ 3,  3,  1,  1,  1]])"
      ]
     },
     "execution_count": 2,
     "metadata": {},
     "output_type": "execute_result"
    }
   ],
   "source": [
    "import numpy as np\n",
    "matrix_t = np.array([[10,10,8,9,7],\n",
    "               [4,5,4,3,3],\n",
    "               [3,3,1,1,1]])\n",
    "matrix_t"
   ]
  },
  {
   "cell_type": "code",
   "execution_count": 3,
   "metadata": {},
   "outputs": [
    {
     "data": {
      "text/plain": [
       "array([[1.        , 0.64168895, 0.84016805],\n",
       "       [0.64168895, 1.        , 0.76376262],\n",
       "       [0.84016805, 0.76376262, 1.        ]])"
      ]
     },
     "execution_count": 3,
     "metadata": {},
     "output_type": "execute_result"
    }
   ],
   "source": [
    "np.corrcoef(matrix_t)  # 计算行相关系数，对角线是自己与自己比较"
   ]
  },
  {
   "cell_type": "code",
   "execution_count": 4,
   "metadata": {},
   "outputs": [
    {
     "data": {
      "text/plain": [
       "array([[1.        , 0.98898224, 0.9526832 , 0.9939441 , 0.97986371],\n",
       "       [0.98898224, 1.        , 0.98718399, 0.99926008, 0.99862543],\n",
       "       [0.9526832 , 0.98718399, 1.        , 0.98031562, 0.99419163],\n",
       "       [0.9939441 , 0.99926008, 0.98031562, 1.        , 0.99587059],\n",
       "       [0.97986371, 0.99862543, 0.99419163, 0.99587059, 1.        ]])"
      ]
     },
     "execution_count": 4,
     "metadata": {},
     "output_type": "execute_result"
    }
   ],
   "source": [
    "np.corrcoef(matrix_t, rowvar=0)  # 计算列相关系数，对角线是自己与自己比较"
   ]
  },
  {
   "cell_type": "markdown",
   "metadata": {},
   "source": [
    "计算伦敦市月平均气温与降水量\n",
    "<img src=\"assets/20201120221030.png\" width=\"50%\">\n",
    "计算伦敦市月平均气温（t）与降水量（p）之间的相关系数\n",
    "$$\n",
    "r_tp = \\frac{\\sum_{i=1}^{12}(t_i-\\overline{t})(p_i-\\overline{p})}\n",
    "{\\sqrt{\\sum^{12}_{t=1}(t_i-\\overline{t})^2}\\sqrt{\\sum^{12}_{i=1}(p_i-\\overline{p})}}\n",
    "=\n",
    "\\frac{-300.91}{\\sqrt{250.55}\\sqrt{1508.34}}\n",
    "$$\n",
    "$$\n",
    "= \\frac{-300.91}{15.83*38.84} = -0.4895\n",
    "$$\n",
    "计算结果表明，伦敦市的月平均气温（t）与降水量（p）呈负相关，即异向相关"
   ]
  },
  {
   "cell_type": "markdown",
   "metadata": {},
   "source": [
    "### 相关系数的显著性检验\n",
    "假设\n",
    "<ul>\n",
    "    <li>H0：p=0\n",
    "    <li>H1：p≠0\n",
    "</ul>\n",
    "统计量\n",
    "$$\n",
    "t = \\frac{r\\sqrt{n-2}}{\\sqrt{1-r^2}}\n",
    "$$"
   ]
  },
  {
   "cell_type": "markdown",
   "metadata": {},
   "source": [
    "10个学生初一数学分数与初二数学分数的相关系数为087，问从总体上来说，初一与初二数学分数是否存在相关?\n",
    "<img src=\"assets/20201120222349.png\" width=\"50%\">\n",
    "计算检验统计量：\n",
    "$$\n",
    "t = \\frac{r\\sqrt{n-2}}{\\sqrt{1-r^2}} \n",
    "= \\frac{0.78\\sqrt{10-2}}{\\sqrt{1-0.78^2}}\n",
    "= 3.524\n",
    "$$\n",
    "\n",
    "$$\n",
    "t = 3.524 > 3.355 = t_{(8)0.01}\n",
    "$$\n",
    "所以，总体来说初一和初二的成绩存在正相关。"
   ]
  },
  {
   "cell_type": "code",
   "execution_count": 10,
   "metadata": {},
   "outputs": [
    {
     "name": "stdout",
     "output_type": "stream",
     "text": [
      "correlation: 0.9891763198690562\n",
      "pvalue: 5.926875946481138e-08\n"
     ]
    },
    {
     "data": {
      "image/png": "[encoded data removed]",
      "text/plain": [
       "<Figure size 432x288 with 1 Axes>"
      ]
     },
     "metadata": {
      "needs_background": "light"
     },
     "output_type": "display_data"
    }
   ],
   "source": [
    "from scipy import stats\n",
    "import matplotlib.pyplot as plt\n",
    "x = [10.35, 6.24,3.18,8.46,3.21,7.65,4.32,8.66,9.12,10.31]\n",
    "y = [5.1, 3.15,1.67,4.33,1.76,4.11,2.11,4.88,4.99,5.12]\n",
    "correlation, pvalue = stats.stats.pearsonr(x,y)\n",
    "print('correlation:', correlation)  # 相关系数高\n",
    "print('pvalue:', pvalue)\n",
    "plt.scatter(x,y)\n",
    "plt.show()  # 类斜线"
   ]
  },
  {
   "cell_type": "markdown",
   "metadata": {},
   "source": [
    "### 斯皮尔曼等级变量的相关分析\n",
    "当测量得到的数据不是等距或等比数据，而是具有等级顺序的数据；或者得到的数据是等距或等比数据，但其所来自的总体分布不是正态的，不满足求皮尔森相关系数(积差相关)的要求。这时就要运用等级相关系数。"
   ]
  },
  {
   "cell_type": "markdown",
   "metadata": {},
   "source": [
    "小实验，两个基因A、B，他们的表达量关系是B=2A，在8个样本中的表达了如下：\n",
    "<img src=\"assets/20201120223504.png\" width=\"70%\">"
   ]
  },
  {
   "cell_type": "markdown",
   "metadata": {},
   "source": [
    "计算得出，他们的皮尔森相关系数=1，P-vlaue=0，从以上可以直观看出，如果两个基因的表达量呈线性关系，则具有显著的皮尔森相关性\n",
    "<br><br>\n",
    "以上是两个基因呈线性关系的结果。如果两者呈非线性关系，例如幂函数关系(曲线关系)，那又如何呢？\n",
    "<br><br>两个基因A、D，他们的关系是D=A^10，在8个样本中的表达量值如下：\n",
    "<img src=\"assets/20201120223836.png\" width=\"50%\">\n",
    "<img src=\"assets/20201120223916.png\" width=\"70%\">"
   ]
  },
  {
   "cell_type": "code",
   "execution_count": 11,
   "metadata": {},
   "outputs": [
    {
     "name": "stdout",
     "output_type": "stream",
     "text": [
      "correlation: 0.7659287963138055\n",
      "pvalue: 0.026696497208768055\n"
     ]
    },
    {
     "data": {
      "image/png": "[encoded data removed]",
      "text/plain": [
       "<Figure size 432x288 with 1 Axes>"
      ]
     },
     "metadata": {
      "needs_background": "light"
     },
     "output_type": "display_data"
    }
   ],
   "source": [
    "x = [0.6,0.7,1,2.1,2.9,3.2,5.5,6.7]\n",
    "y = np.power(x, 10)\n",
    "correlation, pvalue = stats.stats.pearsonr(x, y)\n",
    "print('correlation:', correlation)  # 相关系数高\n",
    "print('pvalue:', pvalue)\n",
    "plt.scatter(x,y)\n",
    "plt.show()  # 类斜线"
   ]
  },
  {
   "cell_type": "markdown",
   "metadata": {},
   "source": [
    "可以看到,基因A、D相关系数，无论数值还是显著性都下降了。皮尔森相关系数是一种线性相关系数，因此如果两个变量呈线性关系的时候，具有最大的显著性。对于非线性关系(例如A、D的幂函数关系)，则其对相关性的检测功效会下降\n",
    "\n",
    "<br>这时我们可以考虑另外一个相关系数计算方法:斯皮尔曼等级相关。"
   ]
  },
  {
   "cell_type": "markdown",
   "metadata": {},
   "source": [
    "**斯皮尔曼等级相关**\n",
    "当两个变量值以等级次序排列或以等级次序表示时,两个相应总体并不一定呈正态分布,样本容量也不一定大于30,表示这两变量之间的相关,称为 Spearman等级相关。\n",
    "\n",
    "<br>简单点说,就是无论两个变量的数据如何变化，符合什么样的分布，我们只关心每个数值在变量内的排列顺序。如果两个变量的对应值，在各组内的排序顺位是相同或类似的，则具有显著的相关性。\n",
    "$$\n",
    "p = 1-\\frac{6\\sum{d^2_i}}{n^2-n}\n",
    "$$\n",
    "<ul>\n",
    "    <li>n 为等级个数\n",
    "    <li>d 为二列成对变量的等级差数"
   ]
  },
  {
   "cell_type": "markdown",
   "metadata": {},
   "source": [
    "将上表转换成排序等级\n",
    "<img src=\"assets/20201120224505.png\" width=\"50%\">\n",
    "\n",
    "利用斯皮尔曼等级相关计算A、D基因表达量的相关性，结果是:r=1, p-value=4.96e-05\n",
    "\n",
    "这里斯皮尔曼等级相关的显著性显然高于皮尔森相关。这是因为虽然两个基因的表达量是非线性关系，但两个基因表达量在所有样本中的排列顺序是完全相同的，因为具有极显著的斯皮尔曼等级相关性。"
   ]
  },
  {
   "cell_type": "code",
   "execution_count": 17,
   "metadata": {},
   "outputs": [
    {
     "name": "stdout",
     "output_type": "stream",
     "text": [
      "correlation: 0.9999999999999999\n",
      "pvalue: 6.646897422032013e-64\n"
     ]
    }
   ],
   "source": [
    "x = [10.35,6.24,3.18,8.46,3.21,7.65,4.32,8.66,9.12,10.31]\n",
    "y = [5.13,3.15,1.67,4.33,1.76,4.11,2.11,4.88,4.99,5.12]\n",
    "correlation, pvalue = stats.stats.spearmanr(x, y)\n",
    "print('correlation:', correlation)  # 相关系数高\n",
    "print('pvalue:', pvalue)"
   ]
  },
  {
   "cell_type": "code",
   "execution_count": 19,
   "metadata": {},
   "outputs": [
    {
     "name": "stdout",
     "output_type": "stream",
     "text": [
      "[10.  4.  1.  6.  2.  5.  3.  7.  8.  9.] [10.  4.  1.  6.  2.  5.  3.  7.  8.  9.]\n",
      "correlation: 0.9999999999999999\n",
      "pvalue: 6.646897422032013e-64\n"
     ]
    }
   ],
   "source": [
    "import scipy\n",
    "x = [10.35,6.24,3.18,8.46,3.21,7.65,4.32,8.66,9.12,10.31]\n",
    "y = [5.13,3.15,1.67,4.33,1.76,4.11,2.11,4.88,4.99,5.12]\n",
    "x = scipy.stats.stats.rankdata(x)  # 原本的数据转换成等级数据\n",
    "y = scipy.stats.stats.rankdata(y)\n",
    "print(x, y)  # 转换成等级后，可以看到等级是极其相似的。\n",
    "# x内3.18是最小的所以是1，y内1.67是最小的所以是1，其它值同样\n",
    "\n",
    "correlation, pvalue = stats.stats.spearmanr(x, y)\n",
    "print('correlation:', correlation)  # 相关系数高\n",
    "print('pvalue:', pvalue)"
   ]
  },
  {
   "cell_type": "markdown",
   "metadata": {},
   "source": [
    "**斯皮尔曼实例**\n",
    "10名高三学生学习潜在能力测验与自学能力测验成绩如下表所示，问两者相关情况如何？\n",
    "<img src=\"assets/20201120225540.png\" width=\"50%\">\n",
    "计算等级相关系数\n",
    "$$\n",
    "r_R = 1-\\frac{2\\sum D^2}{n(n^2-1)}\n",
    "= 1-\\frac{6*18}{10(10^2-1)}\n",
    "=0.891\n",
    "$$\n",
    "**等级相关系数的显著性检验**\n",
    "与积差相关系数检验的方法相同\n",
    "10个学生学习潜在能力与自学能力测验成绩相关系数为0.891，问总体上说，两者是否存在相关？\n",
    "\n",
    "计算检验统计量的值：\n",
    "$$\n",
    "t = \\frac{r\\sqrt{n-2}}{\\sqrt{1-r^2}} \n",
    "= \\frac{0.891\\sqrt{10-2}}{\\sqrt{1-0.891^2}}\n",
    "= 5.551\n",
    "$$\n",
    "\n",
    "$$\n",
    "5.551 > t_{(8)0.01} = 3.355\n",
    "$$\n",
    "所以学生的学习潜在学习能力与自学能力有较强的正相关。"
   ]
  },
  {
   "cell_type": "code",
   "execution_count": null,
   "metadata": {},
   "outputs": [],
   "source": []
  }
 ],
 "metadata": {
  "kernelspec": {
   "display_name": "Python 3",
   "language": "python",
   "name": "python3"
  },
  "language_info": {
   "codemirror_mode": {
    "name": "ipython",
    "version": 3
   },
   "file_extension": ".py",
   "mimetype": "text/x-python",
   "name": "python",
   "nbconvert_exporter": "python",
   "pygments_lexer": "ipython3",
   "version": "3.7.3"
  }
 },
 "nbformat": 4,
 "nbformat_minor": 2
}
